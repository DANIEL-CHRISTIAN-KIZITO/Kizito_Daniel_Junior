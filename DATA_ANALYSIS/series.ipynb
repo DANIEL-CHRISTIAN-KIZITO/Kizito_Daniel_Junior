{
 "cells": [
  {
   "cell_type": "code",
   "execution_count": null,
   "id": "3ea9bfa7",
   "metadata": {},
   "outputs": [],
   "source": [
    "import pandas as pd\n",
    "import numpy as np\n",
    "\n",
    "# -----------------------------\n",
    "# SERIES EXERCISES\n",
    "# -----------------------------\n",
    "\n"
   ]
  },
  {
   "cell_type": "code",
   "execution_count": null,
   "id": "078e3142",
   "metadata": {},
   "outputs": [],
   "source": [
    "# Compare elements of two series\n",
    "s1 = pd.Series([4, 65, 436, 3, 9])\n",
    "s2 = pd.Series([7, 0, 3, 897, 9])\n",
    "print(\"Comparison (Equal):\\n\", s1 == s2)"
   ]
  },
  {
   "cell_type": "code",
   "execution_count": null,
   "id": "e0d41e19",
   "metadata": {},
   "outputs": [],
   "source": [
    "# Add, Subtract, Multiply, Divide two series\n",
    "s3 = pd.Series([2, 4, 6, 8, 14])\n",
    "s4 = pd.Series([1, 3, 5, 7, 9])\n",
    "print(\"Addition:\\n\", s3 + s4)\n",
    "print(\"Subtraction:\\n\", s3 - s4)\n",
    "print(\"Multiplication:\\n\", s3 * s4)\n",
    "print(\"Division:\\n\", s3 / s4)"
   ]
  },
  {
   "cell_type": "code",
   "execution_count": null,
   "id": "dcb67e71",
   "metadata": {},
   "outputs": [],
   "source": [
    "# Convert dictionary to series\n",
    "dictionary1 = {'Josh': 24, 'Sam': 36, 'Peace': 19, 'Charles': 65, 'Tom': 44}\n",
    "series_dict = pd.Series(dictionary1)\n",
    "print(\"Series from Dictionary:\\n\", series_dict)"
   ]
  },
  {
   "cell_type": "code",
   "execution_count": null,
   "id": "05903cf7",
   "metadata": {},
   "outputs": [],
   "source": [
    "# Convert a series to an array\n",
    "s5 = pd.Series(['Love', 800, 'Joy', 789.9, 'Peace', True])\n",
    "array_from_series = s5.to_numpy()\n",
    "print(\"Converted Array:\\n\", array_from_series)\n",
    "\n",
    "# Replace all but most frequent value\n",
    "s6 = pd.Series([1, 2, 2, 3, 4, 2, 5, 3, 2])\n",
    "most_freq = s6.mode()[0]\n",
    "s6_modified = s6.apply(lambda x: x if x == most_freq else 'Other')\n",
    "print(\"Most Frequent Replaced:\\n\", s6_modified)"
   ]
  }
 ],
 "metadata": {
  "language_info": {
   "name": "python"
  }
 },
 "nbformat": 4,
 "nbformat_minor": 5
}
