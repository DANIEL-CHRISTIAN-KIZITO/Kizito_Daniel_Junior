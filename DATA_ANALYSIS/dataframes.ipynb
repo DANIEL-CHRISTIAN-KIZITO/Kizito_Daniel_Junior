{
 "cells": [
  {
   "cell_type": "code",
   "execution_count": 1,
   "id": "b484d1fd",
   "metadata": {},
   "outputs": [],
   "source": [
    "import pandas as pd\n",
    "import numpy as np"
   ]
  },
  {
   "cell_type": "code",
   "execution_count": 4,
   "id": "e2c8e7e0",
   "metadata": {},
   "outputs": [],
   "source": [
    "# DATAFRAME EXERCISES\n",
    "\n",
    "\n",
    "# Load the dataset\n",
    "# The dataset contains information about the Africa Cup of Nations                  \n",
    "df = pd.read_csv('AfricaCupOfNationsMatches.csv')"
   ]
  },
  {
   "cell_type": "code",
   "execution_count": 5,
   "id": "8ed37f23",
   "metadata": {},
   "outputs": [
    {
     "name": "stdout",
     "output_type": "stream",
     "text": [
      "First 7 rows:\n",
      "    Year      Date  Time    HomeTeam       AwayTeam  HomeTeamGoals  \\\n",
      "0  1957  10-Feb-57   NaN     Sudan           Egypt            1.0   \n",
      "1  1957  10-Feb-57   NaN  Ethiopia    South Africa            NaN   \n",
      "2  1957  16-Feb-57   NaN     Egypt        Ethiopia            4.0   \n",
      "3  1959  22-May-59   NaN      Egypt       Ethiopia            4.0   \n",
      "4  1959  25-May-59   NaN     Sudan        Ethiopia            1.0   \n",
      "5  1959  29-May-59   NaN      Egypt          Sudan            2.0   \n",
      "6  1962  14-Jan-62   NaN  Ethiopia         Tunisia            4.0   \n",
      "\n",
      "   AwayTeamGoals             Stage  \\\n",
      "0            2.0        Semifinals   \n",
      "1            NaN        Semifinals   \n",
      "2            0.0             Final   \n",
      "3            0.0  Final Tournament   \n",
      "4            0.0  Final Tournament   \n",
      "5            1.0  Final Tournament   \n",
      "6            2.0        Semifinals   \n",
      "\n",
      "                                SpecialWinConditions                 Stadium  \\\n",
      "0                                                NaN       Municipal Stadium   \n",
      "1  Ethiopia  wins due to disqualification of othe...                     NaN   \n",
      "2                                                NaN       Municipal Stadium   \n",
      "3                                                NaN   Prince Farouk Stadium   \n",
      "4                                                NaN   Prince Farouk Stadium   \n",
      "5                                                NaN   Prince Farouk Stadium   \n",
      "6                                                NaN  Hailé Sélassié Stadium   \n",
      "\n",
      "           City  Attendance  \n",
      "0      Khartoum     30000.0  \n",
      "1           NaN         NaN  \n",
      "2      Khartoum     30000.0  \n",
      "3         Cairo     30000.0  \n",
      "4         Cairo     20000.0  \n",
      "5         Cairo     30000.0  \n",
      "6   Addis Ababa     30000.0  \n"
     ]
    }
   ],
   "source": [
    "# First 7 rows\n",
    "print(\"First 7 rows:\\n\", df.head(7))"
   ]
  },
  {
   "cell_type": "code",
   "execution_count": 6,
   "id": "3feb7fd3",
   "metadata": {},
   "outputs": [
    {
     "name": "stdout",
     "output_type": "stream",
     "text": [
      "Shape of DataFrame: (622, 12)\n"
     ]
    }
   ],
   "source": [
    "# Count rows and columns\n",
    "print(\"Shape of DataFrame:\", df.shape)"
   ]
  },
  {
   "cell_type": "code",
   "execution_count": 7,
   "id": "d5c9096f",
   "metadata": {},
   "outputs": [
    {
     "name": "stdout",
     "output_type": "stream",
     "text": [
      "Selected Columns:\n",
      "         HomeTeam       AwayTeam  HomeTeamGoals  AwayTeamGoals\n",
      "0         Sudan           Egypt            1.0            2.0\n",
      "1      Ethiopia    South Africa            NaN            NaN\n",
      "2         Egypt        Ethiopia            4.0            0.0\n",
      "3          Egypt       Ethiopia            4.0            0.0\n",
      "4         Sudan        Ethiopia            1.0            0.0\n",
      "..           ...            ...            ...            ...\n",
      "617  Madagascar         Tunisia            0.0            3.0\n",
      "618     Senegal         Tunisia            1.0            0.0\n",
      "619     Algeria         Nigeria            2.0            1.0\n",
      "620     Tunisia         Nigeria            0.0            1.0\n",
      "621     Senegal         Algeria            0.0            1.0\n",
      "\n",
      "[622 rows x 4 columns]\n"
     ]
    }
   ],
   "source": [
    "# Select specific columns\n",
    "selected_columns = df[['HomeTeam', 'AwayTeam', 'HomeTeamGoals', 'AwayTeamGoals']]\n",
    "print(\"Selected Columns:\\n\", selected_columns)"
   ]
  },
  {
   "cell_type": "code",
   "execution_count": 8,
   "id": "c5dd8c77",
   "metadata": {},
   "outputs": [
    {
     "name": "stdout",
     "output_type": "stream",
     "text": [
      "Rows with Egypt:\n",
      "     Year      Date  Time    HomeTeam   AwayTeam  HomeTeamGoals  AwayTeamGoals  \\\n",
      "3   1959  22-May-59   NaN      Egypt   Ethiopia            4.0            0.0   \n",
      "5   1959  29-May-59   NaN      Egypt      Sudan            2.0            1.0   \n",
      "7   1962  18-Jan-62   NaN      Egypt     Uganda            2.0            1.0   \n",
      "9   1962  21-Jan-62   NaN  Ethiopia       Egypt            4.0            2.0   \n",
      "13  1963  24-Nov-63   NaN      Egypt    Nigeria            6.0            3.0   \n",
      "14  1963  26-Nov-63   NaN      Egypt      Sudan            2.0            2.0   \n",
      "16  1963  30-Nov-63   NaN      Egypt   Ethiopia            3.0            0.0   \n",
      "\n",
      "                Stage    SpecialWinConditions                 Stadium  \\\n",
      "3    Final Tournament                     NaN   Prince Farouk Stadium   \n",
      "5    Final Tournament                     NaN   Prince Farouk Stadium   \n",
      "7          Semifinals                     NaN  Hailé Sélassié Stadium   \n",
      "9               Final   win after extra time   Hailé Sélassié Stadium   \n",
      "13            Group B                     NaN   Kumasi Sports Stadium   \n",
      "14            Group B                     NaN   Kumasi Sports Stadium   \n",
      "16  Third place match                     NaN    Accra Sports Stadium   \n",
      "\n",
      "            City  Attendance  \n",
      "3          Cairo     30000.0  \n",
      "5          Cairo     30000.0  \n",
      "7    Addis Ababa     30000.0  \n",
      "9    Addis Ababa         NaN  \n",
      "13        Kumasi         NaN  \n",
      "14        Kumasi         NaN  \n",
      "16         Accra         NaN  \n"
     ]
    }
   ],
   "source": [
    "# Select rows where Egypt appears\n",
    "egypt_rows = df[(df['HomeTeam'] == 'Egypt') | (df['AwayTeam'] == 'Egypt')]\n",
    "print(\"Rows with Egypt:\\n\", egypt_rows)"
   ]
  },
  {
   "cell_type": "code",
   "execution_count": 9,
   "id": "09b8c767",
   "metadata": {},
   "outputs": [
    {
     "name": "stdout",
     "output_type": "stream",
     "text": [
      "Missing Attendance:\n",
      "      Year                         Date   Time        HomeTeam       AwayTeam  \\\n",
      "1    1957                     10-Feb-57    NaN      Ethiopia    South Africa   \n",
      "8    1962                     20-Jan-62    NaN       Tunisia          Uganda   \n",
      "9    1962                     21-Jan-62    NaN      Ethiopia           Egypt   \n",
      "10   1963                     24-Nov-63    NaN         Ghana         Tunisia   \n",
      "11   1963                     26-Nov-63    NaN         Ghana        Ethiopia   \n",
      "..    ...                           ...    ...            ...            ...   \n",
      "565  2017  29 January 2017 (2017-01-29)  20:00         Egypt         Morocco   \n",
      "566  2017  1 February 2017 (2017-02-01)  20:00  Burkina Faso           Egypt   \n",
      "567  2017  2 February 2017 (2017-02-02)  20:00      Cameroon           Ghana   \n",
      "568  2017  4 February 2017 (2017-02-04)  20:00  Burkina Faso           Ghana   \n",
      "569  2017  5 February 2017 (2017-02-05)  20:00         Egypt        Cameroon   \n",
      "\n",
      "     HomeTeamGoals  AwayTeamGoals                 Stage  \\\n",
      "1              NaN            NaN            Semifinals   \n",
      "8              3.0            0.0     Third place match   \n",
      "9              4.0            2.0                 Final   \n",
      "10             1.0            1.0               Group A   \n",
      "11             2.0            0.0               Group A   \n",
      "..             ...            ...                   ...   \n",
      "565            1.0            0.0        Quarter-finals   \n",
      "566            1.0            1.0           Semi-finals   \n",
      "567            2.0            0.0           Semi-finals   \n",
      "568            1.0            0.0  Third place play-off   \n",
      "569            1.0            2.0                 Final   \n",
      "\n",
      "                                  SpecialWinConditions  \\\n",
      "1    Ethiopia  wins due to disqualification of othe...   \n",
      "8                                                  NaN   \n",
      "9                                win after extra time    \n",
      "10                                                 NaN   \n",
      "11                                                 NaN   \n",
      "..                                                 ...   \n",
      "565                                                NaN   \n",
      "566                        Egypt win on Penalities 3-4   \n",
      "567                                                NaN   \n",
      "568                                                NaN   \n",
      "569                                                NaN   \n",
      "\n",
      "                    Stadium          City  Attendance  \n",
      "1                       NaN           NaN         NaN  \n",
      "8    Hailé Sélassié Stadium   Addis Ababa         NaN  \n",
      "9    Hailé Sélassié Stadium   Addis Ababa         NaN  \n",
      "10     Accra Sports Stadium         Accra         NaN  \n",
      "11     Accra Sports Stadium         Accra         NaN  \n",
      "..                      ...           ...         ...  \n",
      "565    Stade de Port-Gentil   Port-Gentil         NaN  \n",
      "566       Stade de l'Amitié    Libreville         NaN  \n",
      "567    Stade de Franceville   Franceville         NaN  \n",
      "568    Stade de Port-Gentil   Port-Gentil         NaN  \n",
      "569       Stade de l'Amitié    Libreville         NaN  \n",
      "\n",
      "[100 rows x 12 columns]\n"
     ]
    }
   ],
   "source": [
    "# Rows with missing Attendance\n",
    "missing_attendance = df[df['Attendance'].isna()]\n",
    "print(\"Missing Attendance:\\n\", missing_attendance)\n"
   ]
  },
  {
   "cell_type": "code",
   "execution_count": 10,
   "id": "9b4542b8",
   "metadata": {},
   "outputs": [
    {
     "name": "stdout",
     "output_type": "stream",
     "text": [
      "Goals between 3 and 6:\n",
      "      Year                         Date   Time    HomeTeam     AwayTeam  \\\n",
      "2    1957                     16-Feb-57    NaN     Egypt      Ethiopia   \n",
      "3    1959                     22-May-59    NaN      Egypt     Ethiopia   \n",
      "6    1962                     14-Jan-62    NaN  Ethiopia       Tunisia   \n",
      "8    1962                     20-Jan-62    NaN   Tunisia        Uganda   \n",
      "9    1962                     21-Jan-62    NaN  Ethiopia         Egypt   \n",
      "..    ...                           ...    ...        ...          ...   \n",
      "553  2017  20 January 2017 (2017-01-20)  20:00   Morocco          Togo   \n",
      "585  2019     27 June 2019 (2019-06-27)  22:00     Kenya      Tanzania   \n",
      "595  2019     24 June 2019 (2019-06-24)  22:00      Mali    Mauritania   \n",
      "608  2019      6 July 2019 (2019-07-06)  18:00   Nigeria      Cameroon   \n",
      "611  2019      7 July 2019 (2019-07-07)  21:00   Algeria        Guinea   \n",
      "\n",
      "     HomeTeamGoals  AwayTeamGoals              Stage    SpecialWinConditions  \\\n",
      "2              4.0            0.0              Final                     NaN   \n",
      "3              4.0            0.0   Final Tournament                     NaN   \n",
      "6              4.0            2.0         Semifinals                     NaN   \n",
      "8              3.0            0.0  Third place match                     NaN   \n",
      "9              4.0            2.0              Final   win after extra time    \n",
      "..             ...            ...                ...                     ...   \n",
      "553            3.0            1.0            Group C                     NaN   \n",
      "585            3.0            2.0            Group C                     NaN   \n",
      "595            4.0            1.0            Group E                     NaN   \n",
      "608            3.0            2.0        Round of 16                     NaN   \n",
      "611            3.0            0.0        Round of 16                     NaN   \n",
      "\n",
      "                    Stadium          City  Attendance  \n",
      "2         Municipal Stadium      Khartoum     30000.0  \n",
      "3     Prince Farouk Stadium         Cairo     30000.0  \n",
      "6    Hailé Sélassié Stadium   Addis Ababa     30000.0  \n",
      "8    Hailé Sélassié Stadium   Addis Ababa         NaN  \n",
      "9    Hailé Sélassié Stadium   Addis Ababa         NaN  \n",
      "..                      ...           ...         ...  \n",
      "553            Stade d'Oyem          Oyem         NaN  \n",
      "585         30 June Stadium         Cairo      7233.0  \n",
      "595            Suez Stadium          Suez      6202.0  \n",
      "608      Alexandria Stadium    Alexandria     10000.0  \n",
      "611         30 June Stadium         Cairo      8205.0  \n",
      "\n",
      "[138 rows x 12 columns]\n"
     ]
    }
   ],
   "source": [
    "# Rows where HomeTeamGoals is between 3 and 6\n",
    "goal_filter = df[df['HomeTeamGoals'].between(3, 6)]\n",
    "print(\"Goals between 3 and 6:\\n\", goal_filter)"
   ]
  },
  {
   "cell_type": "code",
   "execution_count": 12,
   "id": "197567a3",
   "metadata": {},
   "outputs": [],
   "source": [
    "# Change AwayTeamGoals in 3rd row to 10\n",
    "df.at[2, 'AwayTeamGoals'] = 10"
   ]
  },
  {
   "cell_type": "code",
   "execution_count": 13,
   "id": "34f8e952",
   "metadata": {},
   "outputs": [
    {
     "name": "stdout",
     "output_type": "stream",
     "text": [
      "Sorted DataFrame:\n",
      "      Year      Date  Time   HomeTeam  AwayTeam  HomeTeamGoals  AwayTeamGoals  \\\n",
      "205  1990   2-Mar-90   NaN  Algeria    Nigeria            5.0            1.0   \n",
      "29   1968  14-Jan-68   NaN  Algeria     Uganda            4.0            0.0   \n",
      "135  1980  16-Mar-80   NaN  Algeria     Guinea            3.0            2.0   \n",
      "164  1984   5-Mar-84   NaN  Algeria     Malawi            3.0            0.0   \n",
      "171  1984  17-Mar-84   NaN  Algeria      Egypt            3.0            1.0   \n",
      "\n",
      "                 Stage SpecialWinConditions                       Stadium  \\\n",
      "205            Group A                  NaN          Stade 5 Juillet 1962   \n",
      "29             Group A                  NaN        Hailé Sélassié Stadium   \n",
      "135            Group B                  NaN               Liberty Stadium   \n",
      "164            Group B                  NaN                  Stade Bouaké   \n",
      "171  Third place match                  NaN  Stade Félix Houphouët-Boigny   \n",
      "\n",
      "             City  Attendance  \n",
      "205       Algiers     85000.0  \n",
      "29    Addis Ababa     25000.0  \n",
      "135        Ibadan     20000.0  \n",
      "164        Bouaké     10000.0  \n",
      "171       Abidjan       500.0  \n"
     ]
    }
   ],
   "source": [
    "# Sort by HomeTeam ascending, HomeTeamGoals descending\n",
    "df_sorted = df.sort_values(by=['HomeTeam', 'HomeTeamGoals'], ascending=[True, False])\n",
    "print(\"Sorted DataFrame:\\n\", df_sorted.head())"
   ]
  },
  {
   "cell_type": "code",
   "execution_count": 14,
   "id": "58eddf21",
   "metadata": {},
   "outputs": [
    {
     "name": "stdout",
     "output_type": "stream",
     "text": [
      "Column Headers:\n",
      " ['Year', 'Date ', 'Time ', 'HomeTeam', 'AwayTeam', 'HomeTeamGoals', 'AwayTeamGoals', 'Stage', 'SpecialWinConditions', 'Stadium', 'City', 'Attendance']\n"
     ]
    }
   ],
   "source": [
    "# Get column headers as list\n",
    "column_list = df.columns.tolist()\n",
    "print(\"Column Headers:\\n\", column_list)"
   ]
  },
  {
   "cell_type": "code",
   "execution_count": null,
   "id": "e80d037a",
   "metadata": {},
   "outputs": [],
   "source": [
    "# Append a new column\n",
    "df['NewColumn'] = 'Sample'\n",
    "print(\"Appended Column:\\n\", df[['NewColumn']].head())"
   ]
  },
  {
   "cell_type": "code",
   "execution_count": null,
   "id": "e60375af",
   "metadata": {},
   "outputs": [],
   "source": [
    "# Add 2 rows to DataFrame\n",
    "new_rows = pd.DataFrame({\n",
    "    'HomeTeam': ['TeamA', 'TeamB'],\n",
    "    'AwayTeam': ['TeamC', 'TeamD'],\n",
    "    'HomeTeamGoals': [1, 2],\n",
    "    'AwayTeamGoals': [3, 4]\n",
    "})\n",
    "df = pd.concat([df, new_rows], ignore_index=True)"
   ]
  },
  {
   "cell_type": "code",
   "execution_count": null,
   "id": "6fe8302a",
   "metadata": {},
   "outputs": [],
   "source": [
    "# Change 'Uganda' to 'China' in AwayTeam\n",
    "df['AwayTeam'] = df['AwayTeam'].replace('Uganda', 'China')"
   ]
  },
  {
   "cell_type": "code",
   "execution_count": null,
   "id": "1ed6dfe0",
   "metadata": {},
   "outputs": [],
   "source": [
    "\n",
    "\n",
    "\n",
    "\n",
    "# Reset index\n",
    "df_reset = df.reset_index(drop=True)\n",
    "\n",
    "# Check if 'Stadium' column exists\n",
    "print(\"Stadium in DataFrame?\", 'Stadium' in df.columns)\n",
    "\n",
    "# Convert datatype of AwayTeamGoals\n",
    "df['AwayTeamGoals'] = df['AwayTeamGoals'].astype(float)\n",
    "\n",
    "# Remove last 10 rows\n",
    "df_trimmed = df[:-10]\n",
    "print(\"Trimmed DataFrame:\\n\", df_trimmed.tail())\n",
    "\n",
    "# Iterate over rows\n",
    "for index, row in df.head(3).iterrows():\n",
    "    print(f\"Row {index}: {row.to_dict()}\")\n",
    "\n",
    "# Reorder DataFrame columns\n",
    "reordered_df = df[['HomeTeamGoals', 'AwayTeamGoals', 'HomeTeam', 'AwayTeam']]\n",
    "print(\"Reordered Columns:\\n\", reordered_df.head())\n",
    "\n",
    "# Delete rows where HomeTeamGoals is 0\n",
    "df_no_zeros = df[df['HomeTeamGoals'] != 0]\n",
    "print(\"Rows without 0 HomeTeamGoals:\\n\", df_no_zeros.head())\n"
   ]
  }
 ],
 "metadata": {
  "kernelspec": {
   "display_name": "Python 3",
   "language": "python",
   "name": "python3"
  },
  "language_info": {
   "codemirror_mode": {
    "name": "ipython",
    "version": 3
   },
   "file_extension": ".py",
   "mimetype": "text/x-python",
   "name": "python",
   "nbconvert_exporter": "python",
   "pygments_lexer": "ipython3",
   "version": "3.13.3"
  }
 },
 "nbformat": 4,
 "nbformat_minor": 5
}
